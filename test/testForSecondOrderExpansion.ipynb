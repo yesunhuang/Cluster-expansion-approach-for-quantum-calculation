{
 "cells": [
  {
   "cell_type": "markdown",
   "metadata": {},
   "source": [
    "# For testing the program in the following system"
   ]
  },
  {
   "cell_type": "markdown",
   "metadata": {},
   "source": [
    "## Import all the things we need"
   ]
  },
  {
   "cell_type": "code",
   "execution_count": 1,
   "metadata": {},
   "outputs": [],
   "source": [
    "# setup the matplotlib graphics library and configure it to show \n",
    "# figures inline in the notebook\n",
    "%matplotlib inline\n",
    "from qutip import*\n",
    "from scipy import *\n",
    "from scipy import optimize\n",
    "from scipy.integrate import odeint\n",
    "import numpy as np\n",
    "import matplotlib as mpl\n",
    "import matplotlib.pyplot as plt\n",
    "import cluster as clu"
   ]
  },
  {
   "cell_type": "markdown",
   "metadata": {},
   "source": [
    "## Build up the manual version"
   ]
  },
  {
   "cell_type": "markdown",
   "metadata": {},
   "source": [
    "Build the basic expression"
   ]
  },
  {
   "cell_type": "code",
   "execution_count": 2,
   "metadata": {},
   "outputs": [],
   "source": [
    "class ProblemSolver:\n",
    "    'The Problem Solver'\n",
    "    g=0 #coupling rate\n",
    "    Delta=np.zeros(2)#[Delta_a,Delta_b]\n",
    "    N=np.zeros(4) #[N_a,N_b,Na_psi,Nb_psi] Number states\n",
    "    E=0 #input amplitude\n",
    "    c_ops=[]\n",
    "    \n",
    "    def __init__(self,Paramaters):\n",
    "        \"use this function to initial\"\n",
    "        self.SetParamaters(Paramaters)   \n",
    "       \n",
    "    def SetParamaters(self,Paramaters):\n",
    "        \"use this function to set all the paramaters\"\n",
    "        (self.g,self.N,self.Delta,self.E)=Paramaters\n",
    "        self.Na=int(max(math.ceil(self.E*self.E+6*self.E),4));\n",
    "        self.Nb=int(self.Na//2);\n",
    "        self.psi0=tensor(basis(self.Na,self.N[0]),basis(self.Nb,self.N[1]))\n",
    "        self.a=tensor(destroy(self.Na),qeye(self.Nb))\n",
    "        self.b=tensor(qeye(self.Na),destroy(self.Nb))\n",
    "        self.H=self.Delta[0]*self.a.dag()*self.a+self.Delta[1]*self.b.dag()*self.b\\\n",
    "            +self.g*(self.b*self.a.dag()*self.a.dag()+self.b.dag()*self.a*self.a)+self.E*(self.a.dag()+self.a)\n",
    "        self.c_ops.clear()\n",
    "        self.c_ops.append(sqrt(2)*self.a)\n",
    "        self.c_ops.append(sqrt(4)*self.b)\n",
    "\n",
    "    def ClusterSF(self,y,t):\n",
    "        dy0=-(1j*self.Delta[0]+1)*y[0]-2j*self.g*y[7]-1j*self.E\n",
    "        dy1=-(1j*self.Delta[1]+2)*y[1]-1j*self.g*y[2]\n",
    "        dy2=-2j*self.E*y[0]-2j*self.g*y[1]-2*(1+1j*self.Delta[0])*y[2]\\\n",
    "            -4j*self.g*(y[1]*y[3]+np.conj(y[0])*y[6]+y[0]*y[7]-2*y[1]*np.conj(y[0])*y[0])\n",
    "        dy3=1j*self.E*y[0]-1j*self.E*np.conj(y[0])-2*y[3]-2j*self.g*(y[1]*np.conj(y[2])+2*np.conj(y[0])*y[7]-2*y[1]*pow(np.conj(y[0]),2))\\\n",
    "            +2j*self.g*(np.conj(y[1])*y[2]+2*y[0]*np.conj(y[7])-2*np.conj(y[1])*pow(y[0],2))\n",
    "        dy4=-2*(2+1j*self.Delta[1])*y[4]-2j*self.g*(y[1]*y[2]+2*y[0]*y[6]-2*y[1]*pow(y[0],2))\n",
    "        dy5=-4*y[5]+1j*self.g*(y[1]*np.conj(y[2])+2*np.conj(y[0])*y[7]-2*y[1]*pow(np.conj(y[0]),2))\\\n",
    "            -1j*self.g*(np.conj(y[1])*y[2]+2*y[0]*np.conj(y[7])-2*np.conj(y[1])*pow(y[0],2))\n",
    "        dy6=-1j*self.E*y[1]-(3+1j*self.Delta[0]+1j*self.Delta[1])*y[6]-2j*self.g*(2*y[1]*y[7]+np.conj(y[0])*y[4]-2*np.conj(y[0])*pow(y[1],2))\\\n",
    "            -1j*self.g*(3*y[0]*y[2]-2*pow(y[0],3))\n",
    "        dy7=1j*self.E*y[1]+(1j*self.Delta[0]-3-1j*self.Delta[1])*y[7]-1j*self.g*(np.conj(y[0])*y[2]+2*y[0]*y[3]-2*np.conj(y[0])*pow(y[0],2))\\\n",
    "            +2j*self.g*(np.conj(y[1])*y[6]+y[1]*y[7]+y[0]*y[5]-2*np.conj(y[1])*y[1]*y[0])\n",
    "        dydt=[dy0,dy1,dy2,dy3,dy4,dy5,dy6,dy7]\n",
    "        return dydt\n",
    "\n",
    "    def AdvanceCalculator(self,rtol,atol,tlist):\n",
    "        \"Use the mesolve function to calculate\"\n",
    "        options=Options()\n",
    "        options.atol=atol\n",
    "        options.rtol=rtol\n",
    "        output=mesolve(self.H,self.psi0,tlist,self.c_ops,[self.a.dag()*self.a,self.b.dag()*self.b],options=options)\n",
    "        return output\n",
    "    \n",
    "    def ClusterCtoR(self,y,t):\n",
    "        yc=y[0:8]+1j*y[8:16]\n",
    "        dydtc=self.ClusterSF(yc,t)\n",
    "        dydt=np.hstack((np.real(dydtc),np.imag(dydtc)))\n",
    "        return dydt"
   ]
  },
  {
   "cell_type": "code",
   "execution_count": 3,
   "metadata": {},
   "outputs": [],
   "source": [
    "Initial=[0,0]\n",
    "Paramaters= (1, Initial, [0.8, 1.6], 2)\n",
    "ps=ProblemSolver(Paramaters)"
   ]
  },
  {
   "cell_type": "code",
   "execution_count": 4,
   "metadata": {},
   "outputs": [],
   "source": [
    "tlist=np.linspace(0,10,100000)"
   ]
  },
  {
   "cell_type": "markdown",
   "metadata": {},
   "source": [
    "Solve the equation"
   ]
  },
  {
   "cell_type": "code",
   "execution_count": 5,
   "metadata": {},
   "outputs": [],
   "source": [
    "y0=np.zeros(16)\n",
    "sol=odeint(ps.ClusterCtoR,y0,tlist)"
   ]
  },
  {
   "cell_type": "markdown",
   "metadata": {},
   "source": [
    "Plot the result"
   ]
  },
  {
   "cell_type": "code",
   "execution_count": 6,
   "metadata": {},
   "outputs": [
    {
     "data": {
      "text/plain": [
       "[<matplotlib.lines.Line2D at 0x1ec8c658588>]"
      ]
     },
     "execution_count": 6,
     "metadata": {},
     "output_type": "execute_result"
    },
    {
     "data": {
      "image/png": "[encoded data removed]",
      "text/plain": [
       "<Figure size 1152x576 with 2 Axes>"
      ]
     },
     "metadata": {
      "needs_background": "light"
     },
     "output_type": "display_data"
    }
   ],
   "source": [
    "fig1, axes1 = plt.subplots(1, 2, figsize=(16,8))\n",
    "axes1[0].set_xlabel(r'$t(s)$');axes1[1].set_xlabel(r'$t(s)$')\n",
    "axes1[0].set_ylabel(r'$<a^{\\dagger}a>$')\n",
    "axes1[1].set_ylabel(r'$<b^{\\dagger}b>$')\n",
    "axes1[0].plot(tlist,sol[...,3],color='red',linestyle='-',label='Manual-a')\n",
    "axes1[1].plot(tlist,sol[...,5],color='blue',linestyle='-',label='Manual-b')"
   ]
  },
  {
   "cell_type": "markdown",
   "metadata": {},
   "source": [
    "## Build up the automatic version"
   ]
  },
  {
   "cell_type": "code",
   "execution_count": 7,
   "metadata": {},
   "outputs": [
    {
     "name": "stdout",
     "output_type": "stream",
     "text": [
      "[[1, 2], [3, 4], [1, 1, 4], [2, 2, 3], [1], [2]]\n",
      "[0.8, 1.6, 1, 1, 2, 2]\n",
      "[[2], [4]]\n",
      "[2, 4]\n",
      "[[1, 2], [3, 4]]\n"
     ]
    }
   ],
   "source": [
    "Hamilton=[[1,2],[3,4],[1,1,4],[2,2,3],[1],[2]];print(Hamilton)\n",
    "Hc=[ps.Delta[0],ps.Delta[1],ps.g,ps.g,ps.E,ps.E];print(Hc)\n",
    "Co_ps=[[2],[4]];print(Co_ps)\n",
    "Cc=[2,4];print(Cc)\n",
    "T_o=[[1,2],[3,4]];print(T_o)"
   ]
  },
  {
   "cell_type": "code",
   "execution_count": 8,
   "metadata": {},
   "outputs": [],
   "source": [
    "data=clu.DeriveAssign(Initial,Hamilton,Hc,Co_ps,Cc,T_o,6)"
   ]
  },
  {
   "cell_type": "code",
   "execution_count": 9,
   "metadata": {},
   "outputs": [
    {
     "name": "stdout",
     "output_type": "stream",
     "text": [
      "[0j, 0j, 0j, 2j, 0j, 0j, 0j, 0j, 0j, 0j, 0j, 0j, 0j, 0j, 0j, 0j, 0j, 0j, 0j, 0j, 0j, 0j, 0j, 0j, 0j, 0j, 0j, 0j, 0j, 0j, 0j, 0j, 0j, 0j, 0j, 0j, 0j, 0j, 0j, 0j, 0j, 0j, 0j, 0j, 0j, 0j, 0j, 0j, 0j, 0j, 0j, 0j, 0j, 0j, 0j, 0j, 0j, 0j, 0j, 0j, 0j, 0j, 0j, 0j, 0j, 0j, 0j, 0j, 0j, 0j, 0j, 0j, 0j, 0j, 0j, 0j, 0j, 0j, 0j, 0j, 0j, 0j, 0j, 0j, 0j, 0j, 0j, 0j, 0j, 0j, 0j, 0j, 0j, 0j, 0j, 0j, 0j, 0j, 0j, 0j, 0j, 0j, 0j, 0j, 0j, 0j, 0j, 0j, 0j, 0j, 0j, 0j, 0j, 0j, 0j, 0j, 0j, 0j, 0j, 0j, 0j, 0j, 0j, 0j, 0j, 0j, 0j, 0j, 0j, 0j, 0j, 0j, 0j, 0j, 0j, 0j, 0j, 0j, 0j, 0j, 0j, 0j, 0j, 0j, 0j, 0j, 0j, 0j, 0j, 0j, 0j, 0j, 0j, 0j, 0j, 0j, 0j, 0j, 0j, 0j, 0j, 0j, 0j, 0j, 0j, 0j, 0j]\n"
     ]
    }
   ],
   "source": [
    "evo=clu.CalEvolution(data)\n",
    "print(evo)"
   ]
  },
  {
   "cell_type": "code",
   "execution_count": 10,
   "metadata": {},
   "outputs": [
    {
     "name": "stdout",
     "output_type": "stream",
     "text": [
      "[0.+0.j 0.+0.j 0.+0.j 0.+0.j 0.+0.j 0.+0.j 0.+0.j 0.+0.j 0.+0.j 0.+0.j\n",
      " 0.+0.j 0.+0.j 0.+0.j 0.+0.j 0.+0.j 0.+0.j 0.+0.j 0.+0.j 0.+0.j 0.+0.j\n",
      " 0.+0.j 0.+0.j 0.+0.j 0.+0.j 0.+0.j 0.+0.j 0.+0.j 0.+0.j 0.+0.j 0.+0.j\n",
      " 0.+0.j 0.+0.j 0.+0.j 0.+0.j 0.+0.j 0.+0.j 0.+0.j 0.+0.j 0.+0.j 0.+0.j\n",
      " 0.+0.j 0.+0.j 0.+0.j 0.+0.j 0.+0.j 0.+0.j 0.+0.j 0.+0.j 0.+0.j 0.+0.j\n",
      " 0.+0.j 0.+0.j 0.+0.j 0.+0.j 0.+0.j 0.+0.j 0.+0.j 0.+0.j 0.+0.j 0.+0.j\n",
      " 0.+0.j 0.+0.j 0.+0.j 0.+0.j 0.+0.j 0.+0.j 0.+0.j 0.+0.j 0.+0.j 0.+0.j\n",
      " 0.+0.j 0.+0.j 0.+0.j 0.+0.j 0.+0.j 0.+0.j 0.+0.j 0.+0.j 0.+0.j 0.+0.j\n",
      " 0.+0.j 0.+0.j 0.+0.j 0.+0.j 0.+0.j 0.+0.j 0.+0.j 0.+0.j 0.+0.j 0.+0.j\n",
      " 0.+0.j 0.+0.j 0.+0.j 0.+0.j 0.+0.j 0.+0.j 0.+0.j 0.+0.j 0.+0.j 0.+0.j\n",
      " 0.+0.j 0.+0.j 0.+0.j 0.+0.j 0.+0.j 0.+0.j 0.+0.j 0.+0.j 0.+0.j 0.+0.j\n",
      " 0.+0.j 0.+0.j 0.+0.j 0.+0.j 0.+0.j 0.+0.j 0.+0.j 0.+0.j 0.+0.j 0.+0.j\n",
      " 0.+0.j 0.+0.j 0.+0.j 0.+0.j 0.+0.j 0.+0.j 0.+0.j 0.+0.j 0.+0.j 0.+0.j\n",
      " 0.+0.j 0.+0.j 0.+0.j 0.+0.j 0.+0.j 0.+0.j 0.+0.j 0.+0.j 0.+0.j 0.+0.j\n",
      " 0.+0.j 0.+0.j 0.+0.j 0.+0.j 0.+0.j 0.+0.j 0.+0.j 0.+0.j 0.+0.j 0.+0.j\n",
      " 0.+0.j 0.+0.j 0.+0.j 0.+0.j 0.+0.j 0.+0.j 0.+0.j 0.+0.j 0.+0.j 0.+0.j\n",
      " 0.+0.j 0.+0.j 0.+0.j 0.+0.j 0.+0.j 0.+0.j 0.+0.j]\n"
     ]
    }
   ],
   "source": [
    "y0c=np.array(clu.GetCurrentValue(data))\n",
    "n=len(y0c)\n",
    "print(y0c)"
   ]
  },
  {
   "cell_type": "code",
   "execution_count": 11,
   "metadata": {},
   "outputs": [],
   "source": [
    "def CovertToSolver(y,t):\n",
    "    yc=y[0:n]+1j*y[n:2*n]\n",
    "    clu.SetCurrentValue(data,yc.tolist()) \n",
    "    dydtc=clu.CalEvolution(data)\n",
    "    dydt=np.hstack((np.real(dydtc),np.imag(dydtc)))\n",
    "    return dydt\n",
    "y0=np.hstack((np.real(y0c),np.imag(y0c)))\n",
    "sol2=odeint(CovertToSolver,y0,tlist)"
   ]
  },
  {
   "cell_type": "code",
   "execution_count": 12,
   "metadata": {},
   "outputs": [
    {
     "data": {
      "text/plain": [
       "[<matplotlib.lines.Line2D at 0x1ec8db36dc8>]"
      ]
     },
     "execution_count": 12,
     "metadata": {},
     "output_type": "execute_result"
    },
    {
     "data": {
      "image/png": "[encoded data removed]",
      "text/plain": [
       "<Figure size 1152x576 with 2 Axes>"
      ]
     },
     "metadata": {
      "needs_background": "light"
     },
     "output_type": "display_data"
    }
   ],
   "source": [
    "fig2, axes2 = plt.subplots(1, 2, figsize=(16,8))\n",
    "axes2[0].set_xlabel(r'$t(s)$');axes2[1].set_xlabel(r'$t(s)$')\n",
    "axes2[0].set_ylabel(r'$<a^{\\dagger}a>$')\n",
    "axes2[1].set_ylabel(r'$<b^{\\dagger}b>$')\n",
    "axes2[0].plot(tlist,sol2[...,0],color='red',linestyle='-',label='Manual-a')\n",
    "axes2[1].plot(tlist,sol2[...,1],color='blue',linestyle='-',label='Manual-b')"
   ]
  },
  {
   "cell_type": "code",
   "execution_count": 13,
   "metadata": {},
   "outputs": [],
   "source": [
    "clu.PrintData(data)"
   ]
  },
  {
   "cell_type": "code",
   "execution_count": 26,
   "metadata": {},
   "outputs": [
    {
     "name": "stdout",
     "output_type": "stream",
     "text": [
      "1.2940019139518537 0.21057151713933847\n"
     ]
    }
   ],
   "source": [
    "print(sol2[-1,0],sol2[-1,1])"
   ]
  },
  {
   "cell_type": "markdown",
   "metadata": {},
   "source": [
    "## Build up the qutip version"
   ]
  },
  {
   "cell_type": "code",
   "execution_count": 22,
   "metadata": {},
   "outputs": [
    {
     "data": {
      "text/plain": [
       "[<matplotlib.lines.Line2D at 0x29ef12a8108>]"
      ]
     },
     "execution_count": 22,
     "metadata": {},
     "output_type": "execute_result"
    },
    {
     "data": {
      "image/png": "[encoded data removed]",
      "text/plain": [
       "<Figure size 1152x576 with 2 Axes>"
      ]
     },
     "metadata": {
      "needs_background": "light"
     },
     "output_type": "display_data"
    }
   ],
   "source": [
    "output=ps.AdvanceCalculator(1e-12,1e-10,tlist)\n",
    "n_a = output.expect[0];n_b = output.expect[1]\n",
    "fig3, axes3 = plt.subplots(1, 2, figsize=(16,8))\n",
    "axes3[0].set_xlabel(r'$t(s)$');axes3[1].set_xlabel(r'$t(s)$')\n",
    "axes3[0].set_ylabel(r'$<a^{\\dagger}a>$')\n",
    "axes3[1].set_ylabel(r'$<b^{\\dagger}b>$')\n",
    "axes3[0].plot(tlist,n_a,color='red',linestyle='-',label='Manual-a')\n",
    "axes3[1].plot(tlist,n_b,color='blue',linestyle='-',label='Manual-b')"
   ]
  },
  {
   "cell_type": "code",
   "execution_count": 35,
   "metadata": {},
   "outputs": [
    {
     "name": "stdout",
     "output_type": "stream",
     "text": [
      "1.2938565295021474 0.21060863535904747\n"
     ]
    }
   ],
   "source": [
    "print(n_a[-1],n_b[-1])"
   ]
  },
  {
   "cell_type": "code",
   "execution_count": null,
   "metadata": {},
   "outputs": [],
   "source": []
  }
 ],
 "metadata": {
  "kernelspec": {
   "display_name": "Python 3",
   "language": "python",
   "name": "python3"
  },
  "language_info": {
   "codemirror_mode": {
    "name": "ipython",
    "version": 3
   },
   "file_extension": ".py",
   "mimetype": "text/x-python",
   "name": "python",
   "nbconvert_exporter": "python",
   "pygments_lexer": "ipython3",
   "version": "3.7.4"
  },
  "toc": {
   "base_numbering": 1,
   "nav_menu": {},
   "number_sections": true,
   "sideBar": true,
   "skip_h1_title": false,
   "title_cell": "Table of Contents",
   "title_sidebar": "Contents",
   "toc_cell": false,
   "toc_position": {},
   "toc_section_display": true,
   "toc_window_display": false
  }
 },
 "nbformat": 4,
 "nbformat_minor": 2
}
